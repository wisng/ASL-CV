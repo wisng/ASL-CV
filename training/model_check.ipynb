{
 "cells": [
  {
   "cell_type": "code",
   "execution_count": 1,
   "metadata": {},
   "outputs": [],
   "source": [
    "import os\n",
    "from ultralytics import YOLO\n",
    "from sklearn.metrics import accuracy_score, precision_score, recall_score"
   ]
  },
  {
   "cell_type": "code",
   "execution_count": null,
   "metadata": {},
   "outputs": [],
   "source": [
    "# Run model accuracy, precision, and recall\n",
    "model = YOLO(\"./best/best.pt\")\n",
    "image_folder = './datasets/test/images'\n",
    "label_folder = './datasets/test/labels'\n",
    "\n",
    "true_labels = []\n",
    "predicted_labels = []\n",
    "for image_file in os.listdir(image_folder):\n",
    "    base_filename = os.path.splitext(image_file)[0]\n",
    "    label_file_path = os.path.join(label_folder, f\"{base_filename}.txt\")\n",
    "    \n",
    "    if not os.path.exists(label_file_path):\n",
    "        continue\n",
    "    \n",
    "    with open(label_file_path, 'r') as label_file:\n",
    "        true_class_id = int(label_file.readline().strip().split()[0])\n",
    "        true_labels.append(true_class_id)\n",
    "    \n",
    "    image_path = os.path.join(image_folder, image_file)\n",
    "    results = model.predict(source=image_path, save=False, save_txt=False)\n",
    "    \n",
    "    highest_confidence = -1\n",
    "    best_class_id = -1  # Use -1 if no predictions found\n",
    "    \n",
    "    if results:\n",
    "        for result in results:\n",
    "            for detection in result.boxes.data:\n",
    "                confidence = float(detection[4])  \n",
    "                class_id = int(detection[5])      \n",
    "                if confidence > highest_confidence:\n",
    "                    highest_confidence = confidence\n",
    "                    best_class_id = class_id\n",
    "    \n",
    "    predicted_labels.append(best_class_id)\n",
    "\n",
    "accuracy = accuracy_score(true_labels, predicted_labels)\n",
    "precision = precision_score(true_labels, predicted_labels, average='weighted', zero_division=1)\n",
    "recall = recall_score(true_labels, predicted_labels, average='weighted', zero_division=1)\n",
    "\n",
    "print(f\"Accuracy: {accuracy:.2f}\")\n",
    "print(f\"Precision: {precision:.2f}\")\n",
    "print(f\"Recall: {recall:.2f}\")"
   ]
  }
 ],
 "metadata": {
  "kernelspec": {
   "display_name": "asl",
   "language": "python",
   "name": "python3"
  },
  "language_info": {
   "codemirror_mode": {
    "name": "ipython",
    "version": 3
   },
   "file_extension": ".py",
   "mimetype": "text/x-python",
   "name": "python",
   "nbconvert_exporter": "python",
   "pygments_lexer": "ipython3",
   "version": "3.10.11"
  }
 },
 "nbformat": 4,
 "nbformat_minor": 2
}
