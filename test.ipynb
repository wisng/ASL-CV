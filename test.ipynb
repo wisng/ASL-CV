{
 "cells": [
  {
   "cell_type": "markdown",
   "metadata": {},
   "source": [
    "This file contains code which was used during the development and testing the images and model."
   ]
  },
  {
   "cell_type": "code",
   "execution_count": 2,
   "metadata": {},
   "outputs": [],
   "source": [
    "import os\n",
    "import cv2\n",
    "from ultralytics import YOLO\n",
    "import numpy as np\n",
    "import matplotlib.pyplot as plt"
   ]
  },
  {
   "cell_type": "code",
   "execution_count": 3,
   "metadata": {},
   "outputs": [],
   "source": [
    "label_dict = {\n",
    "    0: 'A', 1: 'B', 2: 'C', 3: 'D', 4: 'E', 5: 'F', 6: 'G', 7: 'H', 8: 'I', \n",
    "    9: 'J', 10: 'K', 11: 'L', 12: 'M', 13: 'N', 14: 'O', 15: 'P', 16: 'Q', \n",
    "    17: 'R', 18: 'S', 19: 'T', 20: 'U', 21: 'V', 22: 'W', 23: 'X', 24: 'Y', \n",
    "    25: 'Z', 26: '0', 27: '1', 28: '2', 29: '3', 30: '4', 31: '5', 32: '6', \n",
    "    33: '7', 34: '8', 35: '9'\n",
    "}"
   ]
  },
  {
   "cell_type": "code",
   "execution_count": null,
   "metadata": {},
   "outputs": [],
   "source": [
    "def preprocess_image(image, size=(640, 640)):\n",
    "    gray_image = cv2.cvtColor(image, cv2.COLOR_BGR2GRAY) \n",
    "    resized_image = cv2.resize(gray_image, size)          \n",
    "    normalized_image = resized_image / 255.0              \n",
    "    return normalized_image\n",
    "\n",
    "combined_dataset_dir = './test'\n",
    "\n",
    "for image_file in os.listdir(combined_dataset_dir):\n",
    "    image_path = os.path.join(combined_dataset_dir, image_file)\n",
    "    \n",
    "    image = cv2.imread(image_path)\n",
    "    if image is not None:\n",
    "        image = preprocess_image(image)        \n",
    "\n",
    "        cv2.imwrite(image_path, (image * 255).astype(np.uint8))"
   ]
  },
  {
   "cell_type": "code",
   "execution_count": null,
   "metadata": {},
   "outputs": [],
   "source": [
    "model = YOLO(\"./runs/detect/train10/weights/best.pt\")\n",
    "\n",
    "image_path = './test/test.png'\n",
    "original_image = cv2.imread(image_path)\n",
    "results = model.predict(source=image_path, save=False, save_txt=False)\n",
    "\n",
    "for result in results:\n",
    "    boxes = result.boxes.xyxy.tolist()\n",
    "    classes = result.boxes.cls.tolist()\n",
    "    confidences = result.boxes.conf.tolist()\n",
    "    \n",
    "    for i in range(len(boxes)):\n",
    "        x1, y1, x2, y2 = boxes[i]\n",
    "        original_image = cv2.rectangle(original_image, (int(x1), int(y1)), (int(x2), int(y2)), (0, 255, 0), 2)  # Green box with thickness 2\n",
    "        label = f\"Conf: {confidences[i]:.2f} Class: {label_dict[int(classes[i])]}\"\n",
    "        original_image = cv2.putText(original_image, label, (int(x1), int(y1 - 10)), cv2.FONT_HERSHEY_SIMPLEX, 0.5, (0, 255, 0), 2)\n",
    "        plt.axis('off')\n",
    "        plt.imshow(original_image)"
   ]
  },
  {
   "cell_type": "code",
   "execution_count": null,
   "metadata": {},
   "outputs": [],
   "source": [
    "import cv2\n",
    "import matplotlib.pyplot as plt\n",
    "\n",
    "def show_bounding_boxes(image_path, label_path):\n",
    "    image = cv2.imread(image_path)\n",
    "    if image is None:\n",
    "        print(f\"Error: Unable to load image at {image_path}\")\n",
    "        return\n",
    "    \n",
    "    height, width, _ = image.shape\n",
    "    with open(label_path, 'r') as file:\n",
    "        for line in file:\n",
    "            parts = line.strip().split()\n",
    "            class_id = int(parts[0])\n",
    "            x_center = float(parts[1])\n",
    "            y_center = float(parts[2])\n",
    "            box_width = float(parts[3])\n",
    "            box_height = float(parts[4])\n",
    "            \n",
    "            x1 = int((x_center - box_width / 2) * width)\n",
    "            y1 = int((y_center - box_height / 2) * height)\n",
    "            x2 = int((x_center + box_width / 2) * width)\n",
    "            y2 = int((y_center + box_height / 2) * height)\n",
    "            \n",
    "            cv2.rectangle(image, (x1, y1), (x2, y2), (0, 255, 0), 2)  # Green box\n",
    "            label = f\"Class: {class_id}\"\n",
    "            cv2.putText(image, label, (x1, y1 - 10), cv2.FONT_HERSHEY_SIMPLEX, 0.5, (0, 255, 0), 2)\n",
    "            plt.axis('off')\n",
    "            plt.imshow(image)\n",
    "\n",
    "image_path = 'raw_data/yolo_format/hand1_0_bot_seg_1_cropped.jpeg'\n",
    "label_path = 'raw_data/yolo_format/hand1_0_bot_seg_1_cropped.txt'\n",
    "show_bounding_boxes(image_path, label_path)\n"
   ]
  }
 ],
 "metadata": {
  "kernelspec": {
   "display_name": "asl",
   "language": "python",
   "name": "python3"
  },
  "language_info": {
   "codemirror_mode": {
    "name": "ipython",
    "version": 3
   },
   "file_extension": ".py",
   "mimetype": "text/x-python",
   "name": "python",
   "nbconvert_exporter": "python",
   "pygments_lexer": "ipython3",
   "version": "3.10.11"
  }
 },
 "nbformat": 4,
 "nbformat_minor": 2
}
